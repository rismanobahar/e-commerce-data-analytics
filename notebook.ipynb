{
  "cells": [
    {
      "cell_type": "markdown",
      "metadata": {
        "id": "H9wADwK78DCz"
      },
      "source": [
        "# Proyek Analisis Data: [E-Commerce Public Dataset]\n",
        "- **Nama:** [Rismano Baharuddin Muhammad]\n",
        "- **Email:** [rismanobahar@gmail.com]\n",
        "- **ID Dicoding:** [rismanobahar]"
      ]
    },
    {
      "cell_type": "markdown",
      "metadata": {
        "id": "eE0raob58DC0"
      },
      "source": [
        "## Menentukan Pertanyaan Bisnis"
      ]
    },
    {
      "cell_type": "markdown",
      "metadata": {
        "id": "GmQeQ5YF8DC0"
      },
      "source": [
        "- Kapan terakhir kali pelanggan melakukan transaksi?\n",
        "- Seberapa sering seorang pelanggan melakukan pembelian dalam beberapa bulan terakhir?\n",
        "- Berapa banyak uang yang dihabiskan pelanggan dalam beberapa bulan terakhir?"
      ]
    },
    {
      "cell_type": "markdown",
      "metadata": {
        "id": "H-z4QGlO8DC1"
      },
      "source": [
        "## Import Semua Packages/Library yang Digunakan"
      ]
    },
    {
      "cell_type": "code",
      "execution_count": 1532,
      "metadata": {
        "id": "FVYwaObI8DC1"
      },
      "outputs": [],
      "source": [
        "import numpy as np\n",
        "import pandas as pd\n",
        "import matplotlib.pyplot as plt\n",
        "import seaborn as sns"
      ]
    },
    {
      "cell_type": "markdown",
      "metadata": {
        "id": "h_Sh51Xy8DC1"
      },
      "source": [
        "## Data Wrangling"
      ]
    },
    {
      "cell_type": "markdown",
      "metadata": {
        "id": "sXU2GBYu8DC1"
      },
      "source": [
        "### Gathering Data"
      ]
    },
    {
      "cell_type": "code",
      "execution_count": null,
      "metadata": {},
      "outputs": [],
      "source": [
        "customers_df = pd.read_csv('data/e-commerce-public-dataset/customers_dataset.csv')\n",
        "customers_df.head()"
      ]
    },
    {
      "cell_type": "code",
      "execution_count": null,
      "metadata": {},
      "outputs": [],
      "source": [
        "sales_df = pd.read_csv('data/e-commerce-public-dataset/order_items_dataset.csv')\n",
        "sales_df.head()"
      ]
    },
    {
      "cell_type": "code",
      "execution_count": null,
      "metadata": {
        "id": "zjCBk1BI8DC1"
      },
      "outputs": [],
      "source": [
        "orders_df = pd.read_csv('data/e-commerce-public-dataset/orders_dataset.csv')\n",
        "orders_df.head()"
      ]
    },
    {
      "cell_type": "markdown",
      "metadata": {
        "id": "MMi6xGaDkbCi"
      },
      "source": [
        "**Insight:**\n",
        "- xxx\n",
        "- xxx"
      ]
    },
    {
      "cell_type": "markdown",
      "metadata": {
        "id": "FHSiqaZp8DC1"
      },
      "source": [
        "### Assessing Data"
      ]
    },
    {
      "cell_type": "code",
      "execution_count": null,
      "metadata": {},
      "outputs": [],
      "source": [
        "customers_df.info()\n",
        "customers_df.isna().sum()\n",
        "print(\"Jumlah duplikasi: \", customers_df.duplicated().sum())\n",
        "customers_df.describe()"
      ]
    },
    {
      "cell_type": "code",
      "execution_count": null,
      "metadata": {},
      "outputs": [],
      "source": [
        "sales_df.info()\n",
        "sales_df.isna().sum()\n",
        "print(\"Jumlah duplikasi: \", sales_df.duplicated().sum())\n",
        "sales_df.describe()"
      ]
    },
    {
      "cell_type": "code",
      "execution_count": null,
      "metadata": {
        "id": "ax-3tEjc9Cj1"
      },
      "outputs": [],
      "source": [
        "orders_df.info()\n",
        "orders_df.isna().sum()\n",
        "print(\"Jumlah duplikasi: \", orders_df.duplicated().sum())\n",
        "orders_df.describe()"
      ]
    },
    {
      "cell_type": "markdown",
      "metadata": {
        "id": "7dtxhAPrkhPL"
      },
      "source": [
        "**Insight:**\n",
        "- customers_df = tidak ditemukan masalah\n",
        "- sales_df = tidak ditemukan masalah\n",
        "- order_df = terdapat missing values sebesar 160 pada order_approved_at, 1783 pada order_delivered_carrier_date, 2965 pada order_delivered_customer_date"
      ]
    },
    {
      "cell_type": "markdown",
      "metadata": {
        "id": "EhN5R4hr8DC1"
      },
      "source": [
        "### Cleaning Data"
      ]
    },
    {
      "cell_type": "code",
      "execution_count": null,
      "metadata": {},
      "outputs": [],
      "source": [
        "orders_df[orders_df.order_approved_at.isna()]\n",
        "orders_df.order_approved_at.value_counts()\n",
        "orders_df['order_approved_at'].fillna(value=\"2018-02-27 04:31:10\", inplace=True)\n",
        "orders_df.isna().sum()"
      ]
    },
    {
      "cell_type": "code",
      "execution_count": null,
      "metadata": {},
      "outputs": [],
      "source": [
        "orders_df[orders_df.order_delivered_carrier_date.isna()]\n",
        "orders_df.order_delivered_carrier_date.value_counts()\n",
        "orders_df['order_delivered_carrier_date'].fillna(value=\"2018-05-09 15:48:00\", inplace=True)\n",
        "orders_df.isna().sum()"
      ]
    },
    {
      "cell_type": "code",
      "execution_count": null,
      "metadata": {
        "id": "jVnYpprE9Evz"
      },
      "outputs": [],
      "source": [
        "orders_df[orders_df.order_delivered_customer_date.isna()]\n",
        "orders_df.order_delivered_customer_date.value_counts()\n",
        "orders_df.fillna({'order_delivered_customer_date' : \"2018-05-08 19:36:48\"}, inplace=True)\n",
        "orders_df.isna().sum()"
      ]
    },
    {
      "cell_type": "markdown",
      "metadata": {
        "id": "Q_5ejIqckiSP"
      },
      "source": [
        "**Insight:**\n",
        "- Missing value berhasil ditangani dengan imputation"
      ]
    },
    {
      "cell_type": "markdown",
      "metadata": {
        "id": "gp-Y6wU38DC1"
      },
      "source": [
        "## Exploratory Data Analysis (EDA)"
      ]
    },
    {
      "cell_type": "markdown",
      "metadata": {
        "id": "MW7WF2kr8DC1"
      },
      "source": [
        "### Explore ..."
      ]
    },
    {
      "cell_type": "code",
      "execution_count": null,
      "metadata": {},
      "outputs": [],
      "source": [
        "customers_df.describe(include=\"all\")\n",
        "customers_df.groupby(by=\"customer_city\").customer_id.nunique().sort_values(ascending=False).head(10)\n",
        "# customers_df.groupby(by=\"customer_state\").customer_id.nunique().sort_values(ascending=False)"
      ]
    },
    {
      "cell_type": "code",
      "execution_count": null,
      "metadata": {},
      "outputs": [],
      "source": [
        "sales_df.describe(include=\"all\")\n",
        "sales_df.groupby(by=\"price\").product_id.nunique().sort_values(ascending=False)"
      ]
    },
    {
      "cell_type": "code",
      "execution_count": null,
      "metadata": {},
      "outputs": [],
      "source": [
        "orders_df.describe(include=\"all\")\n",
        "orders_df[\"order_purchase_timestamp\"] = pd.to_datetime(orders_df[\"order_purchase_timestamp\"]).dt.strftime('%Y-%m-%d')\n",
        "orders_df['order_purchase_timestamp'] = pd.to_datetime(orders_df.order_purchase_timestamp   , format='%Y-%m-%d')\n",
        "orders_df.groupby(by=\"order_purchase_timestamp\").order_id.nunique().sort_values(ascending=False)"
      ]
    },
    {
      "cell_type": "code",
      "execution_count": null,
      "metadata": {},
      "outputs": [],
      "source": [
        "sales_orders_df = pd.merge(\n",
        "    left = sales_df,\n",
        "    right = orders_df,\n",
        "    how=\"left\",\n",
        "    left_on=\"order_id\",\n",
        "    right_on=\"order_id\"\n",
        ")\n",
        "sales_orders_df.head()"
      ]
    },
    {
      "cell_type": "code",
      "execution_count": null,
      "metadata": {
        "id": "e9CQCZjk8DC2"
      },
      "outputs": [],
      "source": [
        "all_df = pd.merge(\n",
        "    left=sales_orders_df,\n",
        "    right=customers_df,\n",
        "    how=\"left\",\n",
        "    left_on=\"customer_id\",\n",
        "    right_on=\"customer_id\"\n",
        ")\n",
        "all_df.head()"
      ]
    },
    {
      "cell_type": "markdown",
      "metadata": {
        "id": "th_Lzl2Fkj9O"
      },
      "source": [
        "**Insight:**\n",
        "- persebaran jumlah customer berdasarkan kota(city) dan negara bagian(state) terlihat bahwa kota sao paulo mendominasi sebagai customer terbanyak, sedangkan SP adalah negara bagian dengan jumlah customer terbanyak\n",
        "- diketahui bahwa rata-rata harga barang yang dibeli adalah 120, harga minimum yang dibeli yaitu 0.85, harga tertinggi yang dibeli 6735\n",
        "- terlihat jumlah pembelian terbanyak adalah pada tanggal 2017-11-24"
      ]
    },
    {
      "cell_type": "markdown",
      "metadata": {
        "id": "zsyZjqak8DC2"
      },
      "source": [
        "## Visualization & Explanatory Analysis"
      ]
    },
    {
      "cell_type": "markdown",
      "metadata": {
        "id": "DgHI7CiU8DC2"
      },
      "source": [
        "### Pertanyaan 1: Berapa banyak uang yang dihabiskan pelanggan dalam beberapa bulan terakhir?\n"
      ]
    },
    {
      "cell_type": "markdown",
      "metadata": {},
      "source": [
        "### Pertanyaan 2: Seberapa sering seorang pelanggan melakukan pembelian dalam beberapa bulan terakhir?"
      ]
    },
    {
      "cell_type": "markdown",
      "metadata": {},
      "source": [
        "### Pertanyaan 3: Kapan terakhir kali pelanggan melakukan transaksi?"
      ]
    },
    {
      "cell_type": "code",
      "execution_count": null,
      "metadata": {},
      "outputs": [],
      "source": [
        "rfm_df = all_df.groupby(by=\"customer_id\", as_index=False).agg({\n",
        "    \"order_purchase_timestamp\" : \"max\",\n",
        "    \"order_id\" : \"nunique\",\n",
        "    \"price\" : \"sum\"\n",
        "})\n",
        "rfm_df.columns = [\"customer_id\", \"max_order_timestamp\", \"frequency\", \"monetary\"]\n",
        "\n",
        "rfm_df[\"max_order_timestamp\"] = rfm_df[\"max_order_timestamp\"].dt.date\n",
        "recent_date = orders_df[\"order_purchase_timestamp\"].dt.date.max()\n",
        "rfm_df[\"recency\"] = rfm_df[\"max_order_timestamp\"].apply(lambda x: (recent_date - x).days)\n",
        "\n",
        "rfm_df.drop(\"max_order_timestamp\", axis=1, inplace=True)\n",
        "rfm_df.head()\n",
        "\n",
        "fig, ax = plt.subplots(nrows=1, ncols=3, figsize=(30,6))\n",
        "\n",
        "colors = [\"#72BCD4\", \"#72BCD4\", \"#72BCD4\", \"#72BCD4\", \"#72BCD4\"]\n",
        "\n",
        "sns.barplot(y=\"recency\", x=\"customer_id\", data=rfm_df.sort_values(by=\"recency\", ascending=True).head(5), palette=colors, ax=ax[0])\n",
        "ax[0].set_ylabel(None)\n",
        "ax[0].set_xlabel(None)\n",
        "ax[0].set_title(\"By Recency (days)\", loc=\"center\", fontsize=18)\n",
        "ax[0].tick_params(axis=\"x\", labelsize=15)\n",
        "\n",
        "sns.barplot(y=\"frequency\", x=\"customer_id\", data=rfm_df.sort_values(by=\"frequency\", ascending=False).head(5), palette=colors, ax=ax[1])\n",
        "ax[1].set_ylabel(None)\n",
        "ax[1].set_xlabel(None)\n",
        "ax[1].set_title(\"By Frequency\", loc=\"center\", fontsize=18)\n",
        "ax[1].tick_params(axis='x', labelsize=15)\n",
        " \n",
        "sns.barplot(y=\"monetary\", x=\"customer_id\", data=rfm_df.sort_values(by=\"monetary\", ascending=False).head(5), palette=colors, ax=ax[2])\n",
        "ax[2].set_ylabel(None)\n",
        "ax[2].set_xlabel(None)\n",
        "ax[2].set_title(\"By Monetary\", loc=\"center\", fontsize=18)\n",
        "ax[2].tick_params(axis='x', labelsize=15)\n",
        " \n",
        "plt.suptitle(\"Best Customer Based on RFM Parameters (customer_id)\", fontsize=20)\n",
        "plt.show()"
      ]
    },
    {
      "cell_type": "code",
      "execution_count": 1548,
      "metadata": {
        "id": "Go0lCsvO8DC2"
      },
      "outputs": [],
      "source": [
        "all_df.to_csv(\"all_data.csv\", index=False)"
      ]
    },
    {
      "cell_type": "markdown",
      "metadata": {
        "id": "_0-36BDLklRg"
      },
      "source": [
        "**Insight:**\n",
        "- dari visualisasi data diatas kita dapat melihat beberapa pelanggan terbaik berdasarkan ketiga parameter tersebut."
      ]
    },
    {
      "cell_type": "markdown",
      "metadata": {
        "id": "_WeHlCeX8DC2"
      },
      "source": [
        "## Conclusion"
      ]
    },
    {
      "cell_type": "markdown",
      "metadata": {
        "id": "ZTcyR48Y8DC2"
      },
      "source": [
        "- Conclution pertanyaan 1: \n",
        "\n",
        "Berdasarkan analisis data diatas didapatkan bahwa terdapat 4 pelanggan yang melakukan transaksi terakhir dengan jumlah yang sama\n",
        "\n",
        "Saran:\n",
        "Melakukan diskon secara berkala sehingga pelanggan selalu merasa percaya untuk menggunakan e-commerce ini\n",
        "\n",
        "- Conclution pertanyaan 2:\n",
        "\n",
        "berdasarkan analisis data diatas terdapat total 5 pelanggan yang paling sering melakukan transaksi\n",
        "Saran:\n",
        "Melakukan update serta promisi bulanan, khususnya pada tanggal kembar agar pelanggan tetap aktif bertransaksi\n",
        "\n",
        "- Conclusion pertanyaan 3:\n",
        "\n",
        "berdasarkan analisis data diatas dapat dilihat bahwa terdapat satu pelanggan yang telah melakukan transaksi senilai 14,000$\n",
        "saran:\n",
        "Memberi pelanggan hadiah dimana apabila pelanggan semakin meningkatkan transaksinya, maka akan semakin besar pula hadiah yang pelanggan tersebut peroleh"
      ]
    }
  ],
  "metadata": {
    "colab": {
      "provenance": []
    },
    "kernelspec": {
      "display_name": "proyek_analisis_data-8EV0wEHs",
      "language": "python",
      "name": "python3"
    },
    "language_info": {
      "codemirror_mode": {
        "name": "ipython",
        "version": 3
      },
      "file_extension": ".py",
      "mimetype": "text/x-python",
      "name": "python",
      "nbconvert_exporter": "python",
      "pygments_lexer": "ipython3",
      "version": "3.12.8"
    },
    "orig_nbformat": 4
  },
  "nbformat": 4,
  "nbformat_minor": 0
}
